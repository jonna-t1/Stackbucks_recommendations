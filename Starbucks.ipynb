{
 "cells": [
  {
   "cell_type": "code",
   "execution_count": 1,
   "metadata": {},
   "outputs": [
    {
     "data": {
      "text/html": [
       "<div>\n",
       "<style scoped>\n",
       "    .dataframe tbody tr th:only-of-type {\n",
       "        vertical-align: middle;\n",
       "    }\n",
       "\n",
       "    .dataframe tbody tr th {\n",
       "        vertical-align: top;\n",
       "    }\n",
       "\n",
       "    .dataframe thead th {\n",
       "        text-align: right;\n",
       "    }\n",
       "</style>\n",
       "<table border=\"1\" class=\"dataframe\">\n",
       "  <thead>\n",
       "    <tr style=\"text-align: right;\">\n",
       "      <th></th>\n",
       "      <th>ID</th>\n",
       "      <th>Promotion</th>\n",
       "      <th>purchase</th>\n",
       "      <th>V1</th>\n",
       "      <th>V2</th>\n",
       "      <th>V3</th>\n",
       "      <th>V4</th>\n",
       "      <th>V5</th>\n",
       "      <th>V6</th>\n",
       "      <th>V7</th>\n",
       "    </tr>\n",
       "  </thead>\n",
       "  <tbody>\n",
       "    <tr>\n",
       "      <th>0</th>\n",
       "      <td>1</td>\n",
       "      <td>No</td>\n",
       "      <td>0</td>\n",
       "      <td>2</td>\n",
       "      <td>30.443518</td>\n",
       "      <td>-1.165083</td>\n",
       "      <td>1</td>\n",
       "      <td>1</td>\n",
       "      <td>3</td>\n",
       "      <td>2</td>\n",
       "    </tr>\n",
       "    <tr>\n",
       "      <th>1</th>\n",
       "      <td>3</td>\n",
       "      <td>No</td>\n",
       "      <td>0</td>\n",
       "      <td>3</td>\n",
       "      <td>32.159350</td>\n",
       "      <td>-0.645617</td>\n",
       "      <td>2</td>\n",
       "      <td>3</td>\n",
       "      <td>2</td>\n",
       "      <td>2</td>\n",
       "    </tr>\n",
       "    <tr>\n",
       "      <th>2</th>\n",
       "      <td>4</td>\n",
       "      <td>No</td>\n",
       "      <td>0</td>\n",
       "      <td>2</td>\n",
       "      <td>30.431659</td>\n",
       "      <td>0.133583</td>\n",
       "      <td>1</td>\n",
       "      <td>1</td>\n",
       "      <td>4</td>\n",
       "      <td>2</td>\n",
       "    </tr>\n",
       "    <tr>\n",
       "      <th>3</th>\n",
       "      <td>5</td>\n",
       "      <td>No</td>\n",
       "      <td>0</td>\n",
       "      <td>0</td>\n",
       "      <td>26.588914</td>\n",
       "      <td>-0.212728</td>\n",
       "      <td>2</td>\n",
       "      <td>1</td>\n",
       "      <td>4</td>\n",
       "      <td>2</td>\n",
       "    </tr>\n",
       "    <tr>\n",
       "      <th>4</th>\n",
       "      <td>8</td>\n",
       "      <td>Yes</td>\n",
       "      <td>0</td>\n",
       "      <td>3</td>\n",
       "      <td>28.044331</td>\n",
       "      <td>-0.385883</td>\n",
       "      <td>1</td>\n",
       "      <td>1</td>\n",
       "      <td>2</td>\n",
       "      <td>2</td>\n",
       "    </tr>\n",
       "  </tbody>\n",
       "</table>\n",
       "</div>"
      ],
      "text/plain": [
       "   ID Promotion  purchase  V1         V2        V3  V4  V5  V6  V7\n",
       "0   1        No         0   2  30.443518 -1.165083   1   1   3   2\n",
       "1   3        No         0   3  32.159350 -0.645617   2   3   2   2\n",
       "2   4        No         0   2  30.431659  0.133583   1   1   4   2\n",
       "3   5        No         0   0  26.588914 -0.212728   2   1   4   2\n",
       "4   8       Yes         0   3  28.044331 -0.385883   1   1   2   2"
      ]
     },
     "execution_count": 1,
     "metadata": {},
     "output_type": "execute_result"
    }
   ],
   "source": [
    "# load in packages\n",
    "from itertools import combinations\n",
    "\n",
    "from test_results import test_results, score\n",
    "import numpy as np\n",
    "import pandas as pd\n",
    "import scipy as sp\n",
    "import sklearn as sk\n",
    "\n",
    "import matplotlib.pyplot as plt\n",
    "import seaborn as sb\n",
    "%matplotlib inline\n",
    "\n",
    "# load in the data\n",
    "train_data = pd.read_csv('./training.csv')\n",
    "train_data.head()"
   ]
  },
  {
   "cell_type": "code",
   "execution_count": 2,
   "metadata": {},
   "outputs": [
    {
     "data": {
      "text/plain": [
       "ID           0\n",
       "Promotion    0\n",
       "purchase     0\n",
       "V1           0\n",
       "V2           0\n",
       "V3           0\n",
       "V4           0\n",
       "V5           0\n",
       "V6           0\n",
       "V7           0\n",
       "dtype: int64"
      ]
     },
     "execution_count": 2,
     "metadata": {},
     "output_type": "execute_result"
    }
   ],
   "source": [
    "#check for nulls\n",
    "train_data.isna().sum()"
   ]
  },
  {
   "cell_type": "code",
   "execution_count": 3,
   "metadata": {},
   "outputs": [
    {
     "data": {
      "text/html": [
       "<div>\n",
       "<style scoped>\n",
       "    .dataframe tbody tr th:only-of-type {\n",
       "        vertical-align: middle;\n",
       "    }\n",
       "\n",
       "    .dataframe tbody tr th {\n",
       "        vertical-align: top;\n",
       "    }\n",
       "\n",
       "    .dataframe thead th {\n",
       "        text-align: right;\n",
       "    }\n",
       "</style>\n",
       "<table border=\"1\" class=\"dataframe\">\n",
       "  <thead>\n",
       "    <tr style=\"text-align: right;\">\n",
       "      <th></th>\n",
       "      <th>V1</th>\n",
       "      <th>V2</th>\n",
       "      <th>V3</th>\n",
       "      <th>V4</th>\n",
       "      <th>V5</th>\n",
       "      <th>V6</th>\n",
       "      <th>V7</th>\n",
       "    </tr>\n",
       "  </thead>\n",
       "  <tbody>\n",
       "    <tr>\n",
       "      <th>count</th>\n",
       "      <td>84534.000000</td>\n",
       "      <td>84534.000000</td>\n",
       "      <td>84534.000000</td>\n",
       "      <td>84534.000000</td>\n",
       "      <td>84534.000000</td>\n",
       "      <td>84534.000000</td>\n",
       "      <td>84534.000000</td>\n",
       "    </tr>\n",
       "    <tr>\n",
       "      <th>mean</th>\n",
       "      <td>1.500662</td>\n",
       "      <td>29.973600</td>\n",
       "      <td>0.000190</td>\n",
       "      <td>1.679608</td>\n",
       "      <td>2.327643</td>\n",
       "      <td>2.502898</td>\n",
       "      <td>1.701694</td>\n",
       "    </tr>\n",
       "    <tr>\n",
       "      <th>std</th>\n",
       "      <td>0.868234</td>\n",
       "      <td>5.010626</td>\n",
       "      <td>1.000485</td>\n",
       "      <td>0.466630</td>\n",
       "      <td>0.841167</td>\n",
       "      <td>1.117349</td>\n",
       "      <td>0.457517</td>\n",
       "    </tr>\n",
       "    <tr>\n",
       "      <th>min</th>\n",
       "      <td>0.000000</td>\n",
       "      <td>7.104007</td>\n",
       "      <td>-1.684550</td>\n",
       "      <td>1.000000</td>\n",
       "      <td>1.000000</td>\n",
       "      <td>1.000000</td>\n",
       "      <td>1.000000</td>\n",
       "    </tr>\n",
       "    <tr>\n",
       "      <th>25%</th>\n",
       "      <td>1.000000</td>\n",
       "      <td>26.591501</td>\n",
       "      <td>-0.905350</td>\n",
       "      <td>1.000000</td>\n",
       "      <td>2.000000</td>\n",
       "      <td>2.000000</td>\n",
       "      <td>1.000000</td>\n",
       "    </tr>\n",
       "    <tr>\n",
       "      <th>50%</th>\n",
       "      <td>2.000000</td>\n",
       "      <td>29.979744</td>\n",
       "      <td>-0.039572</td>\n",
       "      <td>2.000000</td>\n",
       "      <td>2.000000</td>\n",
       "      <td>3.000000</td>\n",
       "      <td>2.000000</td>\n",
       "    </tr>\n",
       "    <tr>\n",
       "      <th>75%</th>\n",
       "      <td>2.000000</td>\n",
       "      <td>33.344593</td>\n",
       "      <td>0.826206</td>\n",
       "      <td>2.000000</td>\n",
       "      <td>3.000000</td>\n",
       "      <td>4.000000</td>\n",
       "      <td>2.000000</td>\n",
       "    </tr>\n",
       "    <tr>\n",
       "      <th>max</th>\n",
       "      <td>3.000000</td>\n",
       "      <td>50.375913</td>\n",
       "      <td>1.691984</td>\n",
       "      <td>2.000000</td>\n",
       "      <td>4.000000</td>\n",
       "      <td>4.000000</td>\n",
       "      <td>2.000000</td>\n",
       "    </tr>\n",
       "  </tbody>\n",
       "</table>\n",
       "</div>"
      ],
      "text/plain": [
       "                 V1            V2            V3            V4            V5  \\\n",
       "count  84534.000000  84534.000000  84534.000000  84534.000000  84534.000000   \n",
       "mean       1.500662     29.973600      0.000190      1.679608      2.327643   \n",
       "std        0.868234      5.010626      1.000485      0.466630      0.841167   \n",
       "min        0.000000      7.104007     -1.684550      1.000000      1.000000   \n",
       "25%        1.000000     26.591501     -0.905350      1.000000      2.000000   \n",
       "50%        2.000000     29.979744     -0.039572      2.000000      2.000000   \n",
       "75%        2.000000     33.344593      0.826206      2.000000      3.000000   \n",
       "max        3.000000     50.375913      1.691984      2.000000      4.000000   \n",
       "\n",
       "                 V6            V7  \n",
       "count  84534.000000  84534.000000  \n",
       "mean       2.502898      1.701694  \n",
       "std        1.117349      0.457517  \n",
       "min        1.000000      1.000000  \n",
       "25%        2.000000      1.000000  \n",
       "50%        3.000000      2.000000  \n",
       "75%        4.000000      2.000000  \n",
       "max        4.000000      2.000000  "
      ]
     },
     "execution_count": 3,
     "metadata": {},
     "output_type": "execute_result"
    }
   ],
   "source": [
    "cols = train_data.columns\n",
    "no_cols = len(cols)\n",
    "features_df = train_data.iloc[:,3:no_cols]\n",
    "features_df.describe()"
   ]
  },
  {
   "cell_type": "code",
   "execution_count": 4,
   "metadata": {},
   "outputs": [
    {
     "data": {
      "image/png": "[encoded data removed]",
      "text/plain": [
       "<Figure size 640x480 with 1 Axes>"
      ]
     },
     "metadata": {},
     "output_type": "display_data"
    },
    {
     "data": {
      "image/png": "[encoded data removed]",
      "text/plain": [
       "<Figure size 640x480 with 1 Axes>"
      ]
     },
     "metadata": {},
     "output_type": "display_data"
    },
    {
     "data": {
      "image/png": "[encoded data removed]",
      "text/plain": [
       "<Figure size 640x480 with 1 Axes>"
      ]
     },
     "metadata": {},
     "output_type": "display_data"
    },
    {
     "data": {
      "image/png": "[encoded data removed]",
      "text/plain": [
       "<Figure size 640x480 with 1 Axes>"
      ]
     },
     "metadata": {},
     "output_type": "display_data"
    },
    {
     "data": {
      "image/png": "[encoded data removed]",
      "text/plain": [
       "<Figure size 640x480 with 1 Axes>"
      ]
     },
     "metadata": {},
     "output_type": "display_data"
    },
    {
     "data": {
      "image/png": "[encoded data removed]",
      "text/plain": [
       "<Figure size 640x480 with 1 Axes>"
      ]
     },
     "metadata": {},
     "output_type": "display_data"
    },
    {
     "data": {
      "image/png": "[encoded data removed]",
      "text/plain": [
       "<Figure size 640x480 with 1 Axes>"
      ]
     },
     "metadata": {},
     "output_type": "display_data"
    }
   ],
   "source": [
    "#distributions of figures\n",
    "for col in features_df.columns:\n",
    "    plt.hist(features_df[col])\n",
    "    plt.title(f'Distribution of {col}')\n",
    "    plt.show()"
   ]
  },
  {
   "cell_type": "markdown",
   "metadata": {},
   "source": [
    "v2 and v3 appear continuous, rest are categorical"
   ]
  },
  {
   "cell_type": "code",
   "execution_count": 5,
   "metadata": {},
   "outputs": [
    {
     "data": {
      "text/plain": [
       "Index(['ID', 'Promotion', 'purchase', 'V2', 'V3', 'V1_0', 'V1_1', 'V1_2',\n",
       "       'V1_3', 'V4_1', 'V4_2', 'V5_1', 'V5_2', 'V5_3', 'V5_4', 'V6_1', 'V6_2',\n",
       "       'V6_3', 'V6_4', 'V7_1', 'V7_2'],\n",
       "      dtype='object')"
      ]
     },
     "execution_count": 5,
     "metadata": {},
     "output_type": "execute_result"
    }
   ],
   "source": [
    "# dummy values assumed to be categorical\n",
    "dummied = pd.get_dummies(train_data, columns = ['V1', 'V4', 'V5', 'V6', 'V7'])\n",
    "dummied.columns"
   ]
  },
  {
   "cell_type": "code",
   "execution_count": 6,
   "metadata": {},
   "outputs": [
    {
     "data": {
      "text/plain": [
       "Yes    42364\n",
       "No     42170\n",
       "Name: Promotion, dtype: int64"
      ]
     },
     "execution_count": 6,
     "metadata": {},
     "output_type": "execute_result"
    }
   ],
   "source": [
    "# check sizes of experiement and control groups\n",
    "dummied.Promotion.value_counts()"
   ]
  },
  {
   "cell_type": "code",
   "execution_count": 7,
   "metadata": {},
   "outputs": [
    {
     "name": "stdout",
     "output_type": "stream",
     "text": [
      "________________\n",
      "mu : 42267.0\n",
      "stdv: 145.3736564856233\n",
      "z-score: -0.6638066506192843\n",
      "p-value: 0.5068140685419046\n",
      "Fail to reject null hypothesis.\n",
      "This feature is balanced.\n"
     ]
    }
   ],
   "source": [
    "def test_promotion_split(df, feature):\n",
    "    \"\"\"\n",
    "    create function to test if control and experiment groups are statistically significant from a 50/50 split\n",
    "    params: df, feature\n",
    "    return:\n",
    "    \"\"\"\n",
    "    \n",
    "    treat = df[df['Promotion'] == 'Yes'][feature]\n",
    "    ctrl = df[df['Promotion'] == 'No'][feature]\n",
    "    total = len(treat) + len(ctrl)\n",
    "    p = 0.5\n",
    "    mu = p * total\n",
    "\n",
    "    sd = np.sqrt(p*(1-p)*total)\n",
    "\n",
    "    n_ctrl = len(ctrl)\n",
    "    z = ((n_ctrl + 0.5) - total*p)/np.sqrt(total*p*(1-p))\n",
    "    p_value = 2 * sp.stats.norm.cdf(z)\n",
    "\n",
    "    print(f\"________________\\nmu : {mu}\\nstdv: {sd}\\nz-score: {z}\\np-value: {p_value}\")\n",
    "    if p_value >=0.05:\n",
    "        print(\"Fail to reject null hypothesis.\\nThis feature is balanced.\")\n",
    "    else:\n",
    "        print(\"\\n\\nREJECT NULL HYPOTHESIS THAT THIS IS REASONABLE SPLIT\\n\\n\")\n",
    "\n",
    "# run function on overall population        \n",
    "test_promotion_split(dummied, 'Promotion')"
   ]
  },
  {
   "cell_type": "markdown",
   "metadata": {},
   "source": [
    "We failed to reject the null hypothesis that the number in the control and treatment groups were differently sized in a statistically significant way."
   ]
  },
  {
   "cell_type": "code",
   "execution_count": 8,
   "metadata": {},
   "outputs": [
    {
     "name": "stdout",
     "output_type": "stream",
     "text": [
      "________________\n",
      "mu : 5312.5\n",
      "stdv: 51.53882032022076\n",
      "z-score: 0.5820855000871992\n",
      "p-value: 1.4394909085614855\n",
      "Fail to reject null hypothesis.\n",
      "This feature is balanced.\n",
      "________________\n",
      "mu : 15815.5\n",
      "stdv: 88.92553064221771\n",
      "z-score: 0.2698887465351364\n",
      "p-value: 1.212754155003\n",
      "Fail to reject null hypothesis.\n",
      "This feature is balanced.\n",
      "________________\n",
      "mu : 15804.0\n",
      "stdv: 88.89319434017432\n",
      "z-score: -1.0743229637416665\n",
      "p-value: 0.28267795627902925\n",
      "Fail to reject null hypothesis.\n",
      "This feature is balanced.\n",
      "________________\n",
      "mu : 5335.0\n",
      "stdv: 51.647846034466916\n",
      "z-score: -1.035861204440105\n",
      "p-value: 0.3002668990500855\n",
      "Fail to reject null hypothesis.\n",
      "This feature is balanced.\n",
      "________________\n",
      "mu : 13542.0\n",
      "stdv: 82.28608630868283\n",
      "z-score: -0.7109342857861388\n",
      "p-value: 0.4771249585482401\n",
      "Fail to reject null hypothesis.\n",
      "This feature is balanced.\n",
      "________________\n",
      "mu : 28725.0\n",
      "stdv: 119.84364814206884\n",
      "z-score: -0.31290769749887426\n",
      "p-value: 0.7543507892863371\n",
      "Fail to reject null hypothesis.\n",
      "This feature is balanced.\n",
      "________________\n",
      "mu : 7706.0\n",
      "stdv: 62.07253821135398\n",
      "z-score: -1.1357679584480809\n",
      "p-value: 0.25605369028291614\n",
      "Fail to reject null hypothesis.\n",
      "This feature is balanced.\n",
      "________________\n",
      "mu : 15598.0\n",
      "stdv: 88.31194709664146\n",
      "z-score: 0.10757321418362532\n",
      "p-value: 1.0856657543504327\n",
      "Fail to reject null hypothesis.\n",
      "This feature is balanced.\n",
      "________________\n",
      "mu : 16371.5\n",
      "stdv: 90.47513470561954\n",
      "z-score: -1.0279067315301122\n",
      "p-value: 0.3039937027787475\n",
      "Fail to reject null hypothesis.\n",
      "This feature is balanced.\n",
      "________________\n",
      "mu : 2591.5\n",
      "stdv: 35.99652761031264\n",
      "z-score: 1.6390469836067494\n",
      "p-value: 1.898796524893392\n",
      "Fail to reject null hypothesis.\n",
      "This feature is balanced.\n",
      "________________\n",
      "mu : 10513.0\n",
      "stdv: 72.50172411743047\n",
      "z-score: -0.06206748949461375\n",
      "p-value: 0.9505090866877395\n",
      "Fail to reject null hypothesis.\n",
      "This feature is balanced.\n",
      "________________\n",
      "mu : 10573.0\n",
      "stdv: 72.70832139445939\n",
      "z-score: -0.29570205428560986\n",
      "p-value: 0.767457628219126\n",
      "Fail to reject null hypothesis.\n",
      "This feature is balanced.\n",
      "________________\n",
      "mu : 10593.0\n",
      "stdv: 72.77705682424921\n",
      "z-score: -0.40534752691689835\n",
      "p-value: 0.6852220759707862\n",
      "Fail to reject null hypothesis.\n",
      "This feature is balanced.\n",
      "________________\n",
      "mu : 10588.0\n",
      "stdv: 72.75987905432498\n",
      "z-score: -0.5428816060910157\n",
      "p-value: 0.5872113212248976\n",
      "Fail to reject null hypothesis.\n",
      "This feature is balanced.\n",
      "________________\n",
      "mu : 12608.5\n",
      "stdv: 79.3993073017643\n",
      "z-score: -0.6297284157652717\n",
      "p-value: 0.5288722877495363\n",
      "Fail to reject null hypothesis.\n",
      "This feature is balanced.\n",
      "________________\n",
      "mu : 29658.5\n",
      "stdv: 121.77540802641558\n",
      "z-score: -0.3777445770497575\n",
      "p-value: 0.7056203493447164\n",
      "Fail to reject null hypothesis.\n",
      "This feature is balanced.\n"
     ]
    }
   ],
   "source": [
    "n_dcols = len(dummied.columns)\n",
    "ftr_list = dummied.iloc[:,5:n_dcols].columns\n",
    "for feature in ftr_list:\n",
    "    df = dummied[dummied[feature] == 1]\n",
    "    test_promotion_split(df, feature)"
   ]
  },
  {
   "cell_type": "markdown",
   "metadata": {},
   "source": [
    "The treatment and control portions within members of each categorical feature appear balanced, or rather, we fail to reject the null hypothesis that they're balanced."
   ]
  },
  {
   "cell_type": "code",
   "execution_count": 9,
   "metadata": {},
   "outputs": [],
   "source": [
    "p_null = dummied.purchase.mean()\n",
    "\n",
    "def test_experiement_significance(sub_df, column):\n",
    "    \"\"\"\n",
    "    Test whether the promotion led to a statistically significant increase in purchases within each group\n",
    "    params: sub_df, column\n",
    "    return: \n",
    "    \"\"\"\n",
    "    \n",
    "    print('_____________')\n",
    "    n_total = len(sub_df)\n",
    "    n_cont = float(len(sub_df[sub_df['Promotion'] == 'No']))\n",
    "    n_exper = float(len(sub_df[sub_df['Promotion'] == 'Yes']))\n",
    "    \n",
    "    mean_purchases = sub_df.groupby('Promotion').mean()['purchase']\n",
    "\n",
    "    se_p = np.sqrt(p_null*(1-p_null)*(1/n_cont + 1/n_exper))\n",
    "    \n",
    "    z = (mean_purchases[1] - mean_purchases[0])/se_p\n",
    "    \n",
    "    p_val = 1 - sp.stats.norm.cdf(z)\n",
    "    print('feature: {column}\\np-value: {p_val}')\n",
    "    if p_val >= 0.05:\n",
    "        print(\"\\n!!!    INSUFFICIENT SIGNIFICANCE FOR\\n!!!    PROMOTION MAKING A DIFFERENCE IN PURCHASES\\n\")"
   ]
  },
  {
   "cell_type": "code",
   "execution_count": 10,
   "metadata": {},
   "outputs": [],
   "source": [
    "\n",
    "def compute_IRR(p_treat, p_cont, num_treat, num_cont):\n",
    "    \"\"\"\n",
    "    Find IRR for each feature group\n",
    "    \"\"\"\n",
    "    print(\"IIR: {}\".format((p_treat/num_treat) - (p_cont/num_cont)))\n",
    "#\n",
    "def compute_NIR(p_treat, num_treat, p_cont):\n",
    "    \"\"\"\n",
    "    Find NIR for each feature group\n",
    "    \"\"\"\n",
    "    print(\"NIR: {}\".format((10*p_treat - 0.15*num_treat) - 10*p_cont))"
   ]
  },
  {
   "cell_type": "code",
   "execution_count": 11,
   "metadata": {},
   "outputs": [
    {
     "name": "stdout",
     "output_type": "stream",
     "text": [
      "_____________\n",
      "feature: {column}\n",
      "p-value: {p_val}\n",
      "purchases by treatment group: 98\n",
      "purchases by control group: 40\n",
      "IIR: 0.011062233977679515\n",
      "NIR: -212.44999999999993\n",
      "_____________\n",
      "feature: {column}\n",
      "p-value: {p_val}\n",
      "purchases by treatment group: 252\n",
      "purchases by control group: 138\n",
      "IIR: 0.007244775554012248\n",
      "NIR: -1228.7999999999997\n",
      "_____________\n",
      "feature: {column}\n",
      "p-value: {p_val}\n",
      "purchases by treatment group: 302\n",
      "purchases by control group: 103\n",
      "IIR: 0.012436542369949698\n",
      "NIR: -395.0\n",
      "_____________\n",
      "feature: {column}\n",
      "p-value: {p_val}\n",
      "purchases by treatment group: 69\n",
      "purchases by control group: 38\n",
      "IIR: 0.005608252821598726\n",
      "NIR: -498.35\n",
      "_____________\n",
      "feature: {column}\n",
      "p-value: {p_val}\n",
      "\n",
      "!!!    INSUFFICIENT SIGNIFICANCE FOR\n",
      "!!!    PROMOTION MAKING A DIFFERENCE IN PURCHASES\n",
      "\n",
      "purchases by treatment group: 95\n",
      "purchases by control group: 98\n",
      "IIR: -0.0002836315436208197\n",
      "NIR: -2070.1499999999996\n",
      "_____________\n",
      "feature: {column}\n",
      "p-value: {p_val}\n",
      "purchases by treatment group: 626\n",
      "purchases by control group: 221\n",
      "IIR: 0.01406023392253487\n",
      "NIR: -264.4499999999998\n",
      "_____________\n",
      "feature: {column}\n",
      "p-value: {p_val}\n",
      "purchases by treatment group: 158\n",
      "purchases by control group: 53\n",
      "IIR: 0.013374601563440093\n",
      "NIR: -116.54999999999995\n",
      "_____________\n",
      "feature: {column}\n",
      "p-value: {p_val}\n",
      "purchases by treatment group: 160\n",
      "purchases by control group: 121\n",
      "IIR: 0.002510716066764067\n",
      "NIR: -1948.35\n",
      "_____________\n",
      "feature: {column}\n",
      "p-value: {p_val}\n",
      "purchases by treatment group: 360\n",
      "purchases by control group: 123\n",
      "IIR: 0.01430835035369176\n",
      "NIR: -99.75\n",
      "_____________\n",
      "feature: {column}\n",
      "p-value: {p_val}\n",
      "purchases by treatment group: 43\n",
      "purchases by control group: 22\n",
      "IIR: 0.008674031091479267\n",
      "NIR: -169.95\n",
      "_____________\n",
      "feature: {column}\n",
      "p-value: {p_val}\n",
      "purchases by treatment group: 187\n",
      "purchases by control group: 75\n",
      "IIR: 0.01064162633665217\n",
      "NIR: -457.70000000000005\n",
      "_____________\n",
      "feature: {column}\n",
      "p-value: {p_val}\n",
      "purchases by treatment group: 170\n",
      "purchases by control group: 89\n",
      "IIR: 0.007610084978380253\n",
      "NIR: -779.25\n",
      "_____________\n",
      "feature: {column}\n",
      "p-value: {p_val}\n",
      "purchases by treatment group: 190\n",
      "purchases by control group: 79\n",
      "IIR: 0.010406783756518727\n",
      "NIR: -483.45000000000005\n",
      "_____________\n",
      "feature: {column}\n",
      "p-value: {p_val}\n",
      "purchases by treatment group: 174\n",
      "purchases by control group: 76\n",
      "IIR: 0.009166690573008613\n",
      "NIR: -614.2\n",
      "_____________\n",
      "feature: {column}\n",
      "p-value: {p_val}\n",
      "purchases by treatment group: 228\n",
      "purchases by control group: 87\n",
      "IIR: 0.011083046581076854\n",
      "NIR: -488.8499999999999\n",
      "_____________\n",
      "feature: {column}\n",
      "p-value: {p_val}\n",
      "purchases by treatment group: 493\n",
      "purchases by control group: 232\n",
      "IIR: 0.008761870946608281\n",
      "NIR: -1845.75\n"
     ]
    }
   ],
   "source": [
    "for column in ftr_list:\n",
    "    df1 = dummied[dummied[column] == 1]\n",
    "    test_experiement_significance(df1, column)\n",
    "    p_treat = df1[df1['Promotion'] == 'Yes'].sum()['purchase']\n",
    "    print(\"purchases by treatment group: {}\".format(p_treat))\n",
    "    p_cont = df1[df1['Promotion'] == 'No'].sum()['purchase']\n",
    "    print(\"purchases by control group: {}\".format(p_cont))\n",
    "    num_treat = len(df1[df1['Promotion'] == 'Yes'])\n",
    "    num_cont = len(df1[df1['Promotion'] == 'No'])\n",
    "    compute_IRR(p_treat, p_cont, num_treat, num_cont)\n",
    "    compute_NIR(p_treat, num_treat, p_cont)"
   ]
  },
  {
   "cell_type": "markdown",
   "metadata": {},
   "source": [
    "On their own, it appears the total population of the members of any given categorical feature don't purchase at a high enough rate to cover the costs of offering the promotion to all members of that group. We'll likely need to look into interactions between groups. Also, we failed to reject the null hypothesis that V4_1 increased their purchases at all when offered the promotion.\n",
    "\n",
    "Based on these features, I'd assign \"Yes\" to all customers with a V1 value of 0 or 2, a V4 value of 2, and a V5 value of 1 or 3. I'll also check the population size. If it seems low, I will conduct more testing to see if the size is in fact large enough to have statistically significant and reliable enough results to know that providing our promotion to this subset of the population will earn us money."
   ]
  },
  {
   "cell_type": "code",
   "execution_count": 12,
   "metadata": {},
   "outputs": [],
   "source": [
    "def promotion_strategy(df):\n",
    "    '''\n",
    "    INPUT \n",
    "    df - a dataframe with *only* the columns V1 - V7 (same as train_data)\n",
    "\n",
    "    OUTPUT\n",
    "    promotion_df - np.array with the values\n",
    "                   'Yes' or 'No' related to whether or not an \n",
    "                   individual should recieve a promotion \n",
    "                   should be the length of df.shape[0]\n",
    "                \n",
    "    Ex:\n",
    "    INPUT: df\n",
    "    \n",
    "    V1\tV2\t  V3\tV4\tV5\tV6\tV7\n",
    "    2\t30\t-1.1\t1\t1\t3\t2\n",
    "    3\t32\t-0.6\t2\t3\t2\t2\n",
    "    2\t30\t0.13\t1\t1\t4\t2\n",
    "    \n",
    "    OUTPUT: promotion\n",
    "    \n",
    "    array(['Yes', 'Yes', 'No'])\n",
    "    indicating the first two users would recieve the promotion and \n",
    "    the last should not.\n",
    "    '''\n",
    "    promotion = []\n",
    "    size = 1\n",
    "    for index, row in df.iterrows():\n",
    "        if row['V1'] == 0 or row['V1'] == 2:\n",
    "            if row['V4'] == 2:\n",
    "                if row['V5'] == 1 or row['V5'] == 3:\n",
    "                    promotion.append('Yes')\n",
    "                    size += 1\n",
    "                else:\n",
    "                    promotion.append('No')  \n",
    "            else:\n",
    "                promotion.append('No')\n",
    "        else:\n",
    "            promotion.append('No')\n",
    "    \n",
    "    promotion = np.asarray(promotion)\n",
    "    \n",
    "    print(f\"Size of Promotion population: {size}\")\n",
    "    \n",
    "            \n",
    "    \n",
    "    \n",
    "    \n",
    "    return promotion"
   ]
  },
  {
   "cell_type": "code",
   "execution_count": 13,
   "metadata": {},
   "outputs": [
    {
     "name": "stdout",
     "output_type": "stream",
     "text": [
      "Size of Promotion population: 8017\n",
      "Nice job!  See how well your strategy worked on our test data below!\n",
      "\n",
      "Your irr with this strategy is 0.0228.\n",
      "\n",
      "Your nir with this strategy is 298.10.\n",
      "We came up with a model with an irr of 0.0188 and an nir of 189.45 on the test set.\n",
      "\n",
      " How did you do?\n"
     ]
    },
    {
     "data": {
      "text/plain": [
       "(0.022793834704630447, 298.1)"
      ]
     },
     "execution_count": 13,
     "metadata": {},
     "output_type": "execute_result"
    }
   ],
   "source": [
    "# This will test your results, and provide you back some information \n",
    "# on how well your promotion_strategy will work in practice\n",
    "\n",
    "test_results(promotion_strategy)"
   ]
  }
 ],
 "metadata": {
  "kernelspec": {
   "display_name": "Python 3 (ipykernel)",
   "language": "python",
   "name": "python3"
  },
  "language_info": {
   "codemirror_mode": {
    "name": "ipython",
    "version": 3
   },
   "file_extension": ".py",
   "mimetype": "text/x-python",
   "name": "python",
   "nbconvert_exporter": "python",
   "pygments_lexer": "ipython3",
   "version": "3.8.10"
  }
 },
 "nbformat": 4,
 "nbformat_minor": 4
}
